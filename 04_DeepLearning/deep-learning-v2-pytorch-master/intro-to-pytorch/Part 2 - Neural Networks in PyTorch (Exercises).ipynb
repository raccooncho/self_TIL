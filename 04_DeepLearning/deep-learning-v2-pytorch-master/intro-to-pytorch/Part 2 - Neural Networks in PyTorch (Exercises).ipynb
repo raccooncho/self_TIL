{
 "cells": [
  {
   "cell_type": "markdown",
   "metadata": {},
   "source": [
    "# Neural networks with PyTorch\n",
    "\n",
    "Deep learning networks tend to be massive with dozens or hundreds of layers, that's where the term \"deep\" comes from. You can build one of these deep networks using only weight matrices as we did in the previous notebook, but in general it's very cumbersome and difficult to implement. PyTorch has a nice module `nn` that provides a nice way to efficiently build large neural networks."
   ]
  },
  {
   "cell_type": "code",
   "execution_count": 1,
   "metadata": {},
   "outputs": [],
   "source": [
    "# Import necessary packages\n",
    "\n",
    "%matplotlib inline\n",
    "%config InlineBackend.figure_format = 'retina'\n",
    "\n",
    "import numpy as np\n",
    "import torch\n",
    "\n",
    "import helper\n",
    "\n",
    "import matplotlib.pyplot as plt"
   ]
  },
  {
   "cell_type": "markdown",
   "metadata": {},
   "source": [
    "\n",
    "Now we're going to build a larger network that can solve a (formerly) difficult problem, identifying text in an image. Here we'll use the MNIST dataset which consists of greyscale handwritten digits. Each image is 28x28 pixels, you can see a sample below\n",
    "\n",
    "<img src='assets/mnist.png'>\n",
    "\n",
    "Our goal is to build a neural network that can take one of these images and predict the digit in the image.\n",
    "\n",
    "First up, we need to get our dataset. This is provided through the `torchvision` package. The code below will download the MNIST dataset, then create training and test datasets for us. Don't worry too much about the details here, you'll learn more about this later."
   ]
  },
  {
   "cell_type": "code",
   "execution_count": 2,
   "metadata": {},
   "outputs": [
    {
     "name": "stdout",
     "output_type": "stream",
     "text": [
      "Downloading http://yann.lecun.com/exdb/mnist/train-images-idx3-ubyte.gz\n",
      "Downloading http://yann.lecun.com/exdb/mnist/train-labels-idx1-ubyte.gz\n",
      "Downloading http://yann.lecun.com/exdb/mnist/t10k-images-idx3-ubyte.gz\n",
      "Downloading http://yann.lecun.com/exdb/mnist/t10k-labels-idx1-ubyte.gz\n",
      "Processing...\n",
      "Done!\n"
     ]
    }
   ],
   "source": [
    "### Run this cell\n",
    "\n",
    "from torchvision import datasets, transforms\n",
    "\n",
    "# Define a transform to normalize the data\n",
    "transform = transforms.Compose([transforms.ToTensor(),\n",
    "                              transforms.Normalize((0.5,), (0.5,)),\n",
    "                              ])\n",
    "\n",
    "# Download and load the training data\n",
    "trainset = datasets.MNIST('~/.pytorch/MNIST_data/', download=True, train=True, transform=transform)\n",
    "trainloader = torch.utils.data.DataLoader(trainset, batch_size=64, shuffle=True)"
   ]
  },
  {
   "cell_type": "markdown",
   "metadata": {},
   "source": [
    "We have the training data loaded into `trainloader` and we make that an iterator with `iter(trainloader)`. Later, we'll use this to loop through the dataset for training, like\n",
    "\n",
    "```python\n",
    "for image, label in trainloader:\n",
    "    ## do things with images and labels\n",
    "```\n",
    "\n",
    "You'll notice I created the `trainloader` with a batch size of 64, and `shuffle=True`. The batch size is the number of images we get in one iteration from the data loader and pass through our network, often called a *batch*. And `shuffle=True` tells it to shuffle the dataset every time we start going through the data loader again. But here I'm just grabbing the first batch so we can check out the data. We can see below that `images` is just a tensor with size `(64, 1, 28, 28)`. So, 64 images per batch, 1 color channel, and 28x28 images."
   ]
  },
  {
   "cell_type": "code",
   "execution_count": 3,
   "metadata": {},
   "outputs": [
    {
     "name": "stdout",
     "output_type": "stream",
     "text": [
      "<class 'torch.Tensor'>\n",
      "torch.Size([64, 1, 28, 28])\n",
      "torch.Size([64])\n"
     ]
    }
   ],
   "source": [
    "dataiter = iter(trainloader)\n",
    "images, labels = dataiter.next()\n",
    "print(type(images))\n",
    "print(images.shape)\n",
    "print(labels.shape)"
   ]
  },
  {
   "cell_type": "markdown",
   "metadata": {},
   "source": [
    "This is what one of the images looks like. "
   ]
  },
  {
   "cell_type": "code",
   "execution_count": 4,
   "metadata": {},
   "outputs": [
    {
     "data": {
      "image/png": "[encoded data removed]",
      "text/plain": [
       "<Figure size 432x288 with 1 Axes>"
      ]
     },
     "metadata": {
      "image/png": {
       "height": 250,
       "width": 253
      },
      "needs_background": "light"
     },
     "output_type": "display_data"
    }
   ],
   "source": [
    "plt.imshow(images[1].numpy().squeeze(), cmap='Greys_r');"
   ]
  },
  {
   "cell_type": "markdown",
   "metadata": {},
   "source": [
    "First, let's try to build a simple network for this dataset using weight matrices and matrix multiplications. Then, we'll see how to do it using PyTorch's `nn` module which provides a much more convenient and powerful method for defining network architectures.\n",
    "\n",
    "The networks you've seen so far are called *fully-connected* or *dense* networks. Each unit in one layer is connected to each unit in the next layer. In fully-connected networks, the input to each layer must be a one-dimensional vector (which can be stacked into a 2D tensor as a batch of multiple examples). However, our images are 28x28 2D tensors, so we need to convert them into 1D vectors. Thinking about sizes, we need to convert the batch of images with shape `(64, 1, 28, 28)` to a have a shape of `(64, 784)`, 784 is 28 times 28. This is typically called *flattening*, we flattened the 2D images into 1D vectors.\n",
    "\n",
    "Previously you built a network with one output unit. Here we need 10 output units, one for each digit. We want our network to predict the digit shown in an image, so what we'll do is calculate probabilities that the image is of any one digit or class. This ends up being a discrete probability distribution over the classes (digits) that tells us the most likely class for the image. That means we need 10 output units for the 10 classes (digits). We'll see how to convert the network output into a probability distribution next.\n",
    "\n",
    "> **Exercise:** Flatten the batch of images `images`. Then build a multi-layer network with 784 input units, 256 hidden units, and 10 output units using random tensors for the weights and biases. For now, use a sigmoid activation for the hidden layer. Leave the output layer without an activation, we'll add one that gives us a probability distribution next."
   ]
  },
  {
   "cell_type": "code",
   "execution_count": 9,
   "metadata": {},
   "outputs": [
    {
     "name": "stdout",
     "output_type": "stream",
     "text": [
      "tensor([[-4.0029e-01,  4.5006e+00, -3.4679e+00, -5.2665e+00, -1.9520e+01,\n",
      "         -2.6347e+00,  4.3708e+00, -1.1273e+01,  9.8161e+00,  3.3436e+00],\n",
      "        [-5.5727e+00, -5.3278e+00, -1.7271e+01, -3.0681e+00, -2.2504e+00,\n",
      "         -3.2332e+00,  4.6281e+00, -9.5091e+00,  4.7888e-01, -2.8973e+00],\n",
      "        [-6.5698e+00,  1.6049e+00, -2.1755e+01, -4.1777e-01, -2.3759e+01,\n",
      "         -3.0955e+00, -3.4828e+00,  8.9440e+00,  1.3339e+01,  5.9058e+00],\n",
      "        [ 2.2679e+00,  2.4840e+00, -6.4234e+00, -1.1320e+01, -1.3696e+01,\n",
      "         -7.1901e+00,  4.2110e+00,  9.9263e+00,  4.0214e+00, -3.1294e+00],\n",
      "        [ 5.5972e+00, -1.2586e+00, -1.1426e+01, -2.3834e+00, -1.2243e+01,\n",
      "         -4.4477e+00,  3.6557e-01, -2.6531e+00,  3.0897e+00, -1.7440e+00],\n",
      "        [-1.1612e+01, -1.5008e+00, -6.7941e+00, -6.9576e+00, -1.0934e+01,\n",
      "         -1.0079e+00,  1.4489e+00, -8.0851e+00,  4.8595e+00,  1.0689e+00],\n",
      "        [-7.1489e-01, -4.2567e+00, -1.0820e+01, -2.9845e-01, -7.9400e+00,\n",
      "         -1.6701e+00,  2.0488e+00, -8.9492e+00,  6.4008e+00, -2.6653e+00],\n",
      "        [ 5.1909e+00,  3.3460e+00, -1.8975e+01,  2.9864e+00, -1.4546e+01,\n",
      "          1.5956e+00, -3.8299e+00, -7.6796e-01, -2.4708e-01, -4.0813e+00],\n",
      "        [ 1.3191e+01,  2.4718e+00, -1.9862e+01, -4.7687e-01, -6.6639e+00,\n",
      "          9.7628e-01, -1.3438e+00,  6.7623e+00,  7.8128e+00, -6.1223e+00],\n",
      "        [-1.6115e+00,  2.3381e-01, -2.0565e+01,  6.2412e+00, -6.0039e+00,\n",
      "          9.2846e+00,  4.0121e+00, -2.6150e-01,  3.2882e-01, -4.7252e+00],\n",
      "        [-3.5974e+00, -1.0056e-01, -1.2455e+01, -4.7380e+00, -1.2374e+01,\n",
      "         -2.6503e+00,  7.1593e+00, -9.4808e+00,  8.7910e+00, -5.5457e+00],\n",
      "        [-5.0187e+00, -4.8933e+00, -1.7738e+01, -6.3967e+00, -1.3303e+01,\n",
      "         -5.9680e+00,  1.4807e+01,  1.0118e+01,  3.9118e+00, -1.2357e+01],\n",
      "        [ 2.1909e-01, -3.8326e+00, -2.5761e+01, -1.1461e+01, -1.1507e+01,\n",
      "          1.8094e+00, -1.9541e-01,  1.0918e+00,  5.7408e+00,  5.8631e+00],\n",
      "        [ 7.6217e-01, -3.8339e+00, -2.1888e+01, -7.7777e+00, -6.1095e+00,\n",
      "         -9.9474e+00,  5.1779e+00,  5.8367e-01,  8.7907e+00, -7.2565e+00],\n",
      "        [-3.5957e+00, -3.3981e-01, -2.1882e+01, -6.2051e+00, -8.4927e+00,\n",
      "         -5.5381e+00,  1.8393e+00,  5.0778e+00,  1.1314e+01,  5.2746e+00],\n",
      "        [ 4.3168e+00, -6.3959e+00, -3.8632e+00, -5.1256e+00, -1.0787e+01,\n",
      "         -5.7516e+00,  7.7740e+00, -5.3721e+00,  6.7203e+00,  7.2722e+00],\n",
      "        [ 1.7212e+00, -6.4140e+00, -1.4058e+01, -9.6160e+00, -1.3904e+01,\n",
      "          1.0392e+01,  5.0409e+00,  1.8344e+01,  9.6284e+00, -6.2396e+00],\n",
      "        [ 1.2461e+00, -1.2452e+01, -2.8052e+01, -5.0338e+00, -2.3801e+00,\n",
      "         -2.0829e+00, -6.3166e+00, -6.1650e-01,  1.8412e+00, -9.7136e-01],\n",
      "        [ 6.5037e+00, -4.5101e+00, -1.4490e+01, -7.2566e+00, -8.0256e-01,\n",
      "         -7.1394e+00,  2.9825e+00, -4.1897e+00,  5.5989e-01, -6.1387e+00],\n",
      "        [-1.0608e+01, -1.0714e+01, -1.4201e+00, -8.7561e+00, -1.8345e+01,\n",
      "         -8.8779e-01,  9.5458e+00, -9.9571e+00,  7.6048e+00,  1.7097e+00],\n",
      "        [ 4.0447e+00, -9.3476e+00, -1.6580e+01, -2.0152e+00, -1.3534e+01,\n",
      "          9.6286e-01, -5.8609e+00,  1.1568e+01,  1.1286e+01,  1.3067e+00],\n",
      "        [ 1.0527e+01, -2.9843e+00, -8.1874e+00, -1.1684e+01, -1.5295e+01,\n",
      "          3.4438e+00, -1.2022e+00, -6.6204e+00,  3.5650e+00,  6.8725e-01],\n",
      "        [ 5.9909e-01, -5.9482e+00, -2.6475e+00, -1.5125e+01, -1.0087e+01,\n",
      "         -1.8225e+00,  4.5032e+00, -7.8371e+00,  1.3058e+00,  1.0585e-01],\n",
      "        [ 8.3053e-01, -3.7250e+00, -1.9032e+01, -1.3563e+00, -7.1561e+00,\n",
      "         -4.5585e+00, -2.3411e+00,  6.2401e+00,  1.0842e+01, -9.4821e+00],\n",
      "        [ 4.9346e+00, -7.4610e+00, -2.5492e+01, -1.8157e+00, -1.6094e+01,\n",
      "         -8.5844e+00,  4.3792e+00,  9.2539e-01,  2.3435e+00, -6.3253e+00],\n",
      "        [ 2.3174e+00,  3.2930e+00, -9.3735e+00, -3.9549e+00, -1.1725e+01,\n",
      "         -4.4258e+00, -3.9612e+00, -9.3710e+00,  3.2772e+00, -3.4182e+00],\n",
      "        [-2.9876e-02, -1.1489e+00, -9.8179e+00, -6.1451e+00, -7.8355e+00,\n",
      "         -3.0082e+00,  7.9223e+00, -9.7686e+00,  7.4053e+00, -1.0416e+01],\n",
      "        [-4.9520e+00, -4.5941e+00, -4.9228e+00, -5.9228e+00, -1.5922e+01,\n",
      "          1.7114e+00,  2.0250e+00,  3.4391e+00,  8.7447e+00,  7.9885e+00],\n",
      "        [ 9.6651e-01,  2.3255e+00, -1.9501e+01,  2.8319e+00, -9.9017e+00,\n",
      "          2.0873e+00, -4.6619e+00,  1.6633e+01,  1.0372e+01, -1.5214e+01],\n",
      "        [-6.5978e-01, -7.2199e+00, -1.0319e+01, -1.4281e+01, -7.4606e+00,\n",
      "          1.4148e+00, -2.2331e+00,  9.4433e+00,  2.6009e-01, -9.8959e-01],\n",
      "        [-1.3802e-01, -4.3013e-01, -2.6231e+01, -1.0744e+01, -7.9322e+00,\n",
      "         -7.7863e+00,  1.9664e+00,  5.0235e+00, -3.1863e-02, -7.5547e+00],\n",
      "        [-3.4777e-01,  9.2536e+00, -2.9135e+01, -1.6516e+00, -1.4458e+01,\n",
      "          4.2031e+00,  5.2600e+00, -4.5205e+00,  5.8194e+00, -1.9961e+00],\n",
      "        [-4.5310e+00, -6.2834e+00, -2.0126e+01, -1.0470e+01,  8.7646e-01,\n",
      "         -2.8847e+00, -2.0371e+00, -6.5218e+00,  4.5964e+00, -2.3362e+00],\n",
      "        [ 1.1472e+01, -9.3571e+00, -1.5808e+01, -1.6955e+00, -1.4616e+01,\n",
      "         -2.6340e+00, -4.6323e+00, -2.8916e+00,  3.4104e+00, -7.8920e+00],\n",
      "        [ 5.8502e-01, -5.7616e+00, -6.7970e+00, -1.8502e+01, -1.8733e+01,\n",
      "          6.0191e+00,  1.2094e-01, -6.9053e+00, -2.7222e+00, -3.2778e+00],\n",
      "        [-9.2350e+00, -5.4891e+00, -9.4641e+00, -1.0945e+01, -1.5175e+01,\n",
      "         -4.1152e+00,  5.5310e+00,  1.6572e+00, -1.3676e+00, -9.4379e+00],\n",
      "        [-7.2050e+00, -1.3691e+00, -2.0245e+01, -4.4799e+00, -1.4544e+01,\n",
      "          5.0699e+00,  9.3846e+00,  4.6051e+00, -1.2251e+01, -6.4551e+00],\n",
      "        [ 7.8280e+00, -2.4892e+00, -1.4271e+01, -2.0399e+00, -8.7924e+00,\n",
      "         -5.1262e+00, -4.6788e+00,  4.3174e+00,  4.1207e+00, -1.0520e+01],\n",
      "        [-5.2766e+00, -4.6625e+00, -1.3079e+01, -3.0904e+00, -9.2200e+00,\n",
      "         -2.8158e+00, -5.1544e+00,  4.5892e+00,  3.0277e-01, -1.9148e+00],\n",
      "        [ 5.5596e+00, -1.6256e+00, -2.6301e+01,  2.8174e+00, -1.9771e+00,\n",
      "          5.3011e+00,  4.5217e+00,  4.4902e+00,  4.3632e+00, -1.9459e+00],\n",
      "        [ 1.3010e+01, -3.2533e+00, -1.5675e+01, -6.9460e+00, -4.2467e+00,\n",
      "          2.1085e+00,  8.6021e+00, -1.9785e+00,  2.4136e+00, -3.9863e+00],\n",
      "        [ 1.1456e+01,  1.3268e+00, -1.3837e+01, -1.3344e+01, -6.0422e+00,\n",
      "          7.5996e+00, -3.2909e+00,  3.7391e+00,  4.8479e+00,  7.5900e-01],\n",
      "        [ 1.6183e+00,  3.8273e+00, -1.0873e+01,  3.6402e+00, -1.3517e+00,\n",
      "         -1.4561e+00,  4.6057e+00,  5.1351e-01,  7.2555e+00, -8.2611e+00],\n",
      "        [ 7.9896e-03,  4.9206e+00, -1.9965e+01, -9.3124e+00, -1.1784e+01,\n",
      "         -5.7029e+00,  4.5662e+00, -1.9261e+00,  4.5108e+00, -2.1365e-02],\n",
      "        [ 4.0506e+00, -2.3205e+00, -3.1904e+00, -4.8584e+00, -1.4476e+01,\n",
      "         -1.3181e+01,  4.3175e-01,  1.1557e+00,  2.4924e+00,  1.1710e+00],\n",
      "        [-8.5538e+00,  4.3004e+00, -1.4238e+01, -1.0517e+01, -2.0186e+01,\n",
      "         -7.7806e+00,  6.7787e-01,  3.7594e+00, -5.7102e+00, -4.2604e+00],\n",
      "        [ 7.4790e+00, -8.4487e+00, -8.9672e+00, -1.4410e+01, -6.7008e+00,\n",
      "         -2.6110e+00, -9.7194e-01, -1.6039e+00,  1.0204e+01,  3.2268e-02],\n",
      "        [ 1.5942e+00,  7.3229e-01, -2.1902e+01, -3.2807e+00, -5.8437e+00,\n",
      "          7.9323e-01,  1.2954e+01,  6.4219e+00,  1.1191e+01, -1.4032e+01],\n",
      "        [ 3.2673e+00,  4.1323e+00, -3.6984e+00,  1.0090e+00, -1.2948e+01,\n",
      "          1.7554e+00,  6.3370e+00, -7.7991e+00,  5.3263e+00,  3.8638e+00],\n",
      "        [ 2.9042e+00,  2.4973e+00, -1.8096e+01, -6.5850e+00, -5.2956e+00,\n",
      "          4.9293e+00,  1.9802e+00, -7.3001e+00,  7.6693e+00,  5.2401e+00],\n",
      "        [ 4.0744e+00, -8.2829e-02, -1.6669e+01, -1.1002e+01, -7.0166e+00,\n",
      "         -3.6703e-01, -1.3228e+00, -5.0747e-01, -1.6778e+00, -7.7436e+00],\n",
      "        [-6.1383e+00, -1.1048e+00, -3.5609e+00, -6.5051e+00, -1.1478e+01,\n",
      "          8.1383e-01,  7.8908e-01,  8.1680e-02,  7.3728e+00, -1.3025e+01],\n",
      "        [-3.0098e+00, -6.5307e+00, -1.3145e+01, -1.3676e+01, -7.8655e+00,\n",
      "         -2.4790e+00, -4.7058e+00, -1.8509e+00, -3.5278e-03,  1.6412e+00],\n",
      "        [ 2.7974e+00,  5.6690e+00, -1.3124e+01, -2.7375e+00, -6.6642e+00,\n",
      "          6.5391e+00,  3.7848e+00, -1.1686e+01,  8.0090e+00,  8.6408e+00],\n",
      "        [ 7.8586e+00, -9.0271e-03, -1.2890e+01, -1.6289e+01, -6.3987e+00,\n",
      "         -3.1329e+00,  8.8287e+00, -1.4460e+00,  8.5377e+00, -1.5140e+00],\n",
      "        [ 1.3470e+00, -5.3356e+00, -1.1363e+01, -4.4364e+00, -9.4044e+00,\n",
      "          7.6621e+00, -4.9985e+00,  5.9830e-01,  8.8453e+00, -7.6323e+00],\n",
      "        [ 6.5239e-01,  1.1715e+00, -1.2714e+01, -1.0376e+01, -1.3147e+01,\n",
      "         -6.6952e+00,  6.5032e+00,  6.6536e+00,  2.9350e+00,  1.2853e+00],\n",
      "        [ 7.2496e+00,  7.6296e+00, -6.3509e-01, -1.3357e+00, -1.1350e+01,\n",
      "         -1.1441e+01, -1.3414e+00, -2.8322e+00,  2.1957e+00,  1.1719e+00],\n",
      "        [-1.0072e+01, -8.8858e+00, -4.5304e+00, -1.0637e+01, -1.9272e+01,\n",
      "          7.4086e-01,  1.0502e+01,  2.9484e+00,  9.6507e+00, -1.5136e+00],\n",
      "        [-7.7842e+00,  5.7744e+00, -1.4612e+01, -1.1236e+01, -1.1043e+01,\n",
      "         -1.6027e+00,  6.3942e+00,  2.3246e+00,  3.7744e+00,  2.2468e-01],\n",
      "        [ 2.2985e+00,  1.5478e+00, -2.8148e+01, -1.4281e+00,  1.3473e+00,\n",
      "          1.9601e-01,  1.1931e+01, -5.6168e+00,  5.0968e+00, -2.9071e+00],\n",
      "        [ 7.9294e+00, -9.1680e+00, -3.4979e+00, -1.1311e+01, -1.6421e+01,\n",
      "         -9.0007e+00,  2.8773e+00, -4.9183e+00,  8.3728e+00, -5.7854e+00],\n",
      "        [ 3.7043e+00, -9.6981e+00, -6.3042e+00, -1.3470e+01, -3.4430e+00,\n",
      "         -6.4277e+00, -2.0396e+00, -4.0200e+00,  4.6381e+00,  3.8570e+00],\n",
      "        [ 1.0231e+01,  2.9160e+00, -2.1124e+01,  5.1624e+00, -8.2822e+00,\n"
     ]
    },
    {
     "name": "stdout",
     "output_type": "stream",
     "text": [
      "          1.6960e+00, -3.1172e+00,  3.6248e-01,  5.1858e+00, -1.0193e+00]])\n"
     ]
    }
   ],
   "source": [
    "## Your solution\n",
    "def activation(x):\n",
    "    return 1 / (1 + torch.exp(-x))\n",
    "\n",
    "inputs = images.view(images.shape[0], -1)\n",
    "\n",
    "w1 = torch.randn(784, 256)\n",
    "w2 = torch.randn(256, 10)\n",
    "\n",
    "b1 = torch.randn(256)\n",
    "b2 = torch.randn(10)\n",
    "\n",
    "h1 = activation(torch.mm(inputs, w1) + b1)\n",
    "\n",
    "\n",
    "out = torch.mm(h1, w2) + b2\n",
    "# output of your network, should have shape (64,10)\n",
    "print(out)"
   ]
  },
  {
   "cell_type": "markdown",
   "metadata": {},
   "source": [
    "Now we have 10 outputs for our network. We want to pass in an image to our network and get out a probability distribution over the classes that tells us the likely class(es) the image belongs to. Something that looks like this:\n",
    "<img src='assets/image_distribution.png' width=500px>\n",
    "\n",
    "Here we see that the probability for each class is roughly the same. This is representing an untrained network, it hasn't seen any data yet so it just returns a uniform distribution with equal probabilities for each class.\n",
    "\n",
    "To calculate this probability distribution, we often use the [**softmax** function](https://en.wikipedia.org/wiki/Softmax_function). Mathematically this looks like\n",
    "\n",
    "$$\n",
    "\\Large \\sigma(x_i) = \\cfrac{e^{x_i}}{\\sum_k^K{e^{x_k}}}\n",
    "$$\n",
    "\n",
    "What this does is squish each input $x_i$ between 0 and 1 and normalizes the values to give you a proper probability distribution where the probabilites sum up to one.\n",
    "\n",
    "> **Exercise:** Implement a function `softmax` that performs the softmax calculation and returns probability distributions for each example in the batch. Note that you'll need to pay attention to the shapes when doing this. If you have a tensor `a` with shape `(64, 10)` and a tensor `b` with shape `(64,)`, doing `a/b` will give you an error because PyTorch will try to do the division across the columns (called broadcasting) but you'll get a size mismatch. The way to think about this is for each of the 64 examples, you only want to divide by one value, the sum in the denominator. So you need `b` to have a shape of `(64, 1)`. This way PyTorch will divide the 10 values in each row of `a` by the one value in each row of `b`. Pay attention to how you take the sum as well. You'll need to define the `dim` keyword in `torch.sum`. Setting `dim=0` takes the sum across the rows while `dim=1` takes the sum across the columns."
   ]
  },
  {
   "cell_type": "code",
   "execution_count": 10,
   "metadata": {},
   "outputs": [
    {
     "name": "stdout",
     "output_type": "stream",
     "text": [
      "torch.Size([64, 10])\n",
      "tensor([1.0000, 1.0000, 1.0000, 1.0000, 1.0000, 1.0000, 1.0000, 1.0000, 1.0000,\n",
      "        1.0000, 1.0000, 1.0000, 1.0000, 1.0000, 1.0000, 1.0000, 1.0000, 1.0000,\n",
      "        1.0000, 1.0000, 1.0000, 1.0000, 1.0000, 1.0000, 1.0000, 1.0000, 1.0000,\n",
      "        1.0000, 1.0000, 1.0000, 1.0000, 1.0000, 1.0000, 1.0000, 1.0000, 1.0000,\n",
      "        1.0000, 1.0000, 1.0000, 1.0000, 1.0000, 1.0000, 1.0000, 1.0000, 1.0000,\n",
      "        1.0000, 1.0000, 1.0000, 1.0000, 1.0000, 1.0000, 1.0000, 1.0000, 1.0000,\n",
      "        1.0000, 1.0000, 1.0000, 1.0000, 1.0000, 1.0000, 1.0000, 1.0000, 1.0000,\n",
      "        1.0000])\n"
     ]
    }
   ],
   "source": [
    "def softmax(x):\n",
    "    return torch.exp(x) / torch.sum(torch.exp(x), dim=1).view(-1, 1)\n",
    "    ## TODO: Implement the softmax function here\n",
    "\n",
    "# Here, out should be the output of the network in the previous excercise with shape (64,10)\n",
    "probabilities = softmax(out)\n",
    "\n",
    "# Does it have the right shape? Should be (64, 10)\n",
    "print(probabilities.shape)\n",
    "# Does it sum to 1?\n",
    "print(probabilities.sum(dim=1))"
   ]
  },
  {
   "cell_type": "markdown",
   "metadata": {},
   "source": [
    "## Building networks with PyTorch\n",
    "\n",
    "PyTorch provides a module `nn` that makes building networks much simpler. Here I'll show you how to build the same one as above with 784 inputs, 256 hidden units, 10 output units and a softmax output."
   ]
  },
  {
   "cell_type": "code",
   "execution_count": 11,
   "metadata": {},
   "outputs": [],
   "source": [
    "from torch import nn"
   ]
  },
  {
   "cell_type": "code",
   "execution_count": 12,
   "metadata": {},
   "outputs": [],
   "source": [
    "class Network(nn.Module):\n",
    "    def __init__(self):\n",
    "        super().__init__()\n",
    "        \n",
    "        # Inputs to hidden layer linear transformation\n",
    "        self.hidden = nn.Linear(784, 256)\n",
    "        # Output layer, 10 units - one for each digit\n",
    "        self.output = nn.Linear(256, 10)\n",
    "        \n",
    "        # Define sigmoid activation and softmax output \n",
    "        self.sigmoid = nn.Sigmoid()\n",
    "        self.softmax = nn.Softmax(dim=1)\n",
    "        \n",
    "    def forward(self, x):\n",
    "        # Pass the input tensor through each of our operations\n",
    "        x = self.hidden(x)\n",
    "        x = self.sigmoid(x)\n",
    "        x = self.output(x)\n",
    "        x = self.softmax(x)\n",
    "        \n",
    "        return x"
   ]
  },
  {
   "cell_type": "markdown",
   "metadata": {},
   "source": [
    "Let's go through this bit by bit.\n",
    "\n",
    "```python\n",
    "class Network(nn.Module):\n",
    "```\n",
    "\n",
    "Here we're inheriting from `nn.Module`. Combined with `super().__init__()` this creates a class that tracks the architecture and provides a lot of useful methods and attributes. It is mandatory to inherit from `nn.Module` when you're creating a class for your network. The name of the class itself can be anything.\n",
    "\n",
    "```python\n",
    "self.hidden = nn.Linear(784, 256)\n",
    "```\n",
    "\n",
    "This line creates a module for a linear transformation, $x\\mathbf{W} + b$, with 784 inputs and 256 outputs and assigns it to `self.hidden`. The module automatically creates the weight and bias tensors which we'll use in the `forward` method. You can access the weight and bias tensors once the network (`net`) is created with `net.hidden.weight` and `net.hidden.bias`.\n",
    "\n",
    "```python\n",
    "self.output = nn.Linear(256, 10)\n",
    "```\n",
    "\n",
    "Similarly, this creates another linear transformation with 256 inputs and 10 outputs.\n",
    "\n",
    "```python\n",
    "self.sigmoid = nn.Sigmoid()\n",
    "self.softmax = nn.Softmax(dim=1)\n",
    "```\n",
    "\n",
    "Here I defined operations for the sigmoid activation and softmax output. Setting `dim=1` in `nn.Softmax(dim=1)` calculates softmax across the columns.\n",
    "\n",
    "```python\n",
    "def forward(self, x):\n",
    "```\n",
    "\n",
    "PyTorch networks created with `nn.Module` must have a `forward` method defined. It takes in a tensor `x` and passes it through the operations you defined in the `__init__` method.\n",
    "\n",
    "```python\n",
    "x = self.hidden(x)\n",
    "x = self.sigmoid(x)\n",
    "x = self.output(x)\n",
    "x = self.softmax(x)\n",
    "```\n",
    "\n",
    "Here the input tensor `x` is passed through each operation and reassigned to `x`. We can see that the input tensor goes through the hidden layer, then a sigmoid function, then the output layer, and finally the softmax function. It doesn't matter what you name the variables here, as long as the inputs and outputs of the operations match the network architecture you want to build. The order in which you define things in the `__init__` method doesn't matter, but you'll need to sequence the operations correctly in the `forward` method.\n",
    "\n",
    "Now we can create a `Network` object."
   ]
  },
  {
   "cell_type": "code",
   "execution_count": 13,
   "metadata": {},
   "outputs": [
    {
     "data": {
      "text/plain": [
       "Network(\n",
       "  (hidden): Linear(in_features=784, out_features=256, bias=True)\n",
       "  (output): Linear(in_features=256, out_features=10, bias=True)\n",
       "  (sigmoid): Sigmoid()\n",
       "  (softmax): Softmax()\n",
       ")"
      ]
     },
     "execution_count": 13,
     "metadata": {},
     "output_type": "execute_result"
    }
   ],
   "source": [
    "# Create the network and look at it's text representation\n",
    "model = Network()\n",
    "model"
   ]
  },
  {
   "cell_type": "markdown",
   "metadata": {},
   "source": [
    "You can define the network somewhat more concisely and clearly using the `torch.nn.functional` module. This is the most common way you'll see networks defined as many operations are simple element-wise functions. We normally import this module as `F`, `import torch.nn.functional as F`."
   ]
  },
  {
   "cell_type": "code",
   "execution_count": 14,
   "metadata": {},
   "outputs": [],
   "source": [
    "import torch.nn.functional as F\n",
    "\n",
    "class Network(nn.Module):\n",
    "    def __init__(self):\n",
    "        super().__init__()\n",
    "        # Inputs to hidden layer linear transformation\n",
    "        self.hidden = nn.Linear(784, 256)\n",
    "        # Output layer, 10 units - one for each digit\n",
    "        self.output = nn.Linear(256, 10)\n",
    "        \n",
    "    def forward(self, x):\n",
    "        # Hidden layer with sigmoid activation\n",
    "        x = F.sigmoid(self.hidden(x))\n",
    "        # Output layer with softmax activation\n",
    "        x = F.softmax(self.output(x), dim=1)\n",
    "        \n",
    "        return x"
   ]
  },
  {
   "cell_type": "markdown",
   "metadata": {},
   "source": [
    "### Activation functions\n",
    "\n",
    "So far we've only been looking at the sigmoid activation function, but in general any function can be used as an activation function. The only requirement is that for a network to approximate a non-linear function, the activation functions must be non-linear. Here are a few more examples of common activation functions: Tanh (hyperbolic tangent), and ReLU (rectified linear unit).\n",
    "\n",
    "<img src=\"assets/activation.png\" width=700px>\n",
    "\n",
    "In practice, the ReLU function is used almost exclusively as the activation function for hidden layers."
   ]
  },
  {
   "cell_type": "markdown",
   "metadata": {},
   "source": [
    "### Your Turn to Build a Network\n",
    "\n",
    "<img src=\"assets/mlp_mnist.png\" width=600px>\n",
    "\n",
    "> **Exercise:** Create a network with 784 input units, a hidden layer with 128 units and a ReLU activation, then a hidden layer with 64 units and a ReLU activation, and finally an output layer with a softmax activation as shown above. You can use a ReLU activation with the `nn.ReLU` module or `F.relu` function.\n",
    "\n",
    "It's good practice to name your layers by their type of network, for instance 'fc' to represent a fully-connected layer. As you code your solution, use `fc1`, `fc2`, and `fc3` as your layer names."
   ]
  },
  {
   "cell_type": "code",
   "execution_count": 21,
   "metadata": {
    "scrolled": true
   },
   "outputs": [
    {
     "data": {
      "text/plain": [
       "Network(\n",
       "  (fc1): Linear(in_features=784, out_features=128, bias=True)\n",
       "  (fc2): Linear(in_features=128, out_features=64, bias=True)\n",
       "  (fc3): Linear(in_features=64, out_features=10, bias=True)\n",
       ")"
      ]
     },
     "execution_count": 21,
     "metadata": {},
     "output_type": "execute_result"
    }
   ],
   "source": [
    "## Your solution here\n",
    "class Network(nn.Module):\n",
    "    def __init__(self):\n",
    "        super().__init__()\n",
    "        self.fc1 = nn.Linear(784, 128)\n",
    "        self.fc2 = nn.Linear(128, 64)\n",
    "        self.fc3 = nn.Linear(64, 10)\n",
    "    \n",
    "    def forward(self, x):\n",
    "        x = self.fc1(x)\n",
    "        x = F.relu(x)\n",
    "        x = self.fc2(x)\n",
    "        x = F.relu(x)\n",
    "        x = self.fc3(x)\n",
    "        x = F.softmax(x, dim=1)\n",
    "        return x\n",
    "model = Network()\n",
    "model"
   ]
  },
  {
   "cell_type": "markdown",
   "metadata": {},
   "source": [
    "### Initializing weights and biases\n",
    "\n",
    "The weights and such are automatically initialized for you, but it's possible to customize how they are initialized. The weights and biases are tensors attached to the layer you defined, you can get them with `model.fc1.weight` for instance."
   ]
  },
  {
   "cell_type": "code",
   "execution_count": 22,
   "metadata": {},
   "outputs": [
    {
     "name": "stdout",
     "output_type": "stream",
     "text": [
      "Parameter containing:\n",
      "tensor([[ 0.0011,  0.0261,  0.0198,  ..., -0.0025, -0.0007, -0.0167],\n",
      "        [ 0.0146,  0.0067,  0.0228,  ..., -0.0313, -0.0003,  0.0086],\n",
      "        [-0.0213, -0.0086,  0.0161,  ...,  0.0151,  0.0041, -0.0239],\n",
      "        ...,\n",
      "        [ 0.0308, -0.0246, -0.0253,  ..., -0.0079, -0.0046, -0.0108],\n",
      "        [ 0.0097,  0.0114, -0.0083,  ..., -0.0300,  0.0199,  0.0061],\n",
      "        [-0.0098, -0.0162, -0.0223,  ..., -0.0116,  0.0056, -0.0051]],\n",
      "       requires_grad=True)\n",
      "Parameter containing:\n",
      "tensor([-0.0292,  0.0342,  0.0111, -0.0008,  0.0332,  0.0348, -0.0223, -0.0192,\n",
      "         0.0252, -0.0134, -0.0127, -0.0057, -0.0137,  0.0219, -0.0324, -0.0092,\n",
      "        -0.0313, -0.0248,  0.0285,  0.0119, -0.0349, -0.0281,  0.0089,  0.0051,\n",
      "         0.0039,  0.0257, -0.0305, -0.0237, -0.0284,  0.0115, -0.0031, -0.0071,\n",
      "        -0.0232,  0.0174,  0.0121,  0.0235, -0.0020, -0.0169,  0.0110,  0.0090,\n",
      "         0.0195,  0.0309,  0.0043, -0.0189, -0.0245,  0.0267, -0.0023,  0.0241,\n",
      "        -0.0206, -0.0007,  0.0311,  0.0197, -0.0049, -0.0010, -0.0114, -0.0301,\n",
      "        -0.0225, -0.0011,  0.0221, -0.0306,  0.0181, -0.0017,  0.0081,  0.0278,\n",
      "        -0.0313,  0.0210, -0.0026,  0.0112,  0.0150,  0.0277, -0.0221,  0.0335,\n",
      "         0.0084, -0.0007, -0.0069, -0.0129, -0.0306,  0.0064,  0.0268,  0.0217,\n",
      "         0.0068,  0.0011, -0.0016, -0.0188,  0.0353, -0.0217, -0.0225,  0.0135,\n",
      "         0.0089,  0.0241,  0.0239,  0.0047,  0.0283,  0.0231, -0.0151, -0.0076,\n",
      "         0.0026, -0.0232, -0.0300,  0.0029,  0.0240,  0.0280,  0.0054, -0.0210,\n",
      "         0.0110, -0.0219, -0.0119,  0.0179,  0.0017,  0.0231,  0.0248,  0.0172,\n",
      "         0.0281,  0.0183,  0.0169, -0.0042,  0.0048,  0.0172,  0.0019, -0.0274,\n",
      "        -0.0155, -0.0147, -0.0255,  0.0246,  0.0142,  0.0315,  0.0339, -0.0173],\n",
      "       requires_grad=True)\n"
     ]
    }
   ],
   "source": [
    "print(model.fc1.weight)\n",
    "print(model.fc1.bias)"
   ]
  },
  {
   "cell_type": "markdown",
   "metadata": {},
   "source": [
    "For custom initialization, we want to modify these tensors in place. These are actually autograd *Variables*, so we need to get back the actual tensors with `model.fc1.weight.data`. Once we have the tensors, we can fill them with zeros (for biases) or random normal values."
   ]
  },
  {
   "cell_type": "code",
   "execution_count": 23,
   "metadata": {},
   "outputs": [
    {
     "data": {
      "text/plain": [
       "tensor([0., 0., 0., 0., 0., 0., 0., 0., 0., 0., 0., 0., 0., 0., 0., 0., 0., 0., 0., 0., 0., 0., 0., 0.,\n",
       "        0., 0., 0., 0., 0., 0., 0., 0., 0., 0., 0., 0., 0., 0., 0., 0., 0., 0., 0., 0., 0., 0., 0., 0.,\n",
       "        0., 0., 0., 0., 0., 0., 0., 0., 0., 0., 0., 0., 0., 0., 0., 0., 0., 0., 0., 0., 0., 0., 0., 0.,\n",
       "        0., 0., 0., 0., 0., 0., 0., 0., 0., 0., 0., 0., 0., 0., 0., 0., 0., 0., 0., 0., 0., 0., 0., 0.,\n",
       "        0., 0., 0., 0., 0., 0., 0., 0., 0., 0., 0., 0., 0., 0., 0., 0., 0., 0., 0., 0., 0., 0., 0., 0.,\n",
       "        0., 0., 0., 0., 0., 0., 0., 0.])"
      ]
     },
     "execution_count": 23,
     "metadata": {},
     "output_type": "execute_result"
    }
   ],
   "source": [
    "# Set biases to all zeros\n",
    "model.fc1.bias.data.fill_(0)"
   ]
  },
  {
   "cell_type": "code",
   "execution_count": 24,
   "metadata": {},
   "outputs": [
    {
     "data": {
      "text/plain": [
       "tensor([[-0.0062,  0.0112, -0.0021,  ..., -0.0009, -0.0070, -0.0091],\n",
       "        [ 0.0085,  0.0056,  0.0018,  ...,  0.0073,  0.0049,  0.0139],\n",
       "        [-0.0108,  0.0146,  0.0171,  ...,  0.0017,  0.0044, -0.0114],\n",
       "        ...,\n",
       "        [ 0.0102, -0.0187, -0.0151,  ..., -0.0066, -0.0182,  0.0126],\n",
       "        [ 0.0023, -0.0206, -0.0091,  ..., -0.0042, -0.0054,  0.0159],\n",
       "        [-0.0113, -0.0153,  0.0087,  ...,  0.0102,  0.0069, -0.0156]])"
      ]
     },
     "execution_count": 24,
     "metadata": {},
     "output_type": "execute_result"
    }
   ],
   "source": [
    "# sample from random normal with standard dev = 0.01\n",
    "model.fc1.weight.data.normal_(std=0.01)"
   ]
  },
  {
   "cell_type": "markdown",
   "metadata": {},
   "source": [
    "### Forward pass\n",
    "\n",
    "Now that we have a network, let's see what happens when we pass in an image."
   ]
  },
  {
   "cell_type": "code",
   "execution_count": 27,
   "metadata": {},
   "outputs": [
    {
     "data": {
      "image/png": "[encoded data removed]",
      "text/plain": [
       "<Figure size 432x648 with 2 Axes>"
      ]
     },
     "metadata": {
      "image/png": {
       "height": 226,
       "width": 423
      },
      "needs_background": "light"
     },
     "output_type": "display_data"
    }
   ],
   "source": [
    "# Grab some data \n",
    "dataiter = iter(trainloader)\n",
    "images, labels = dataiter.next()\n",
    "\n",
    "# Resize images into a 1D vector, new shape is (batch size, color channels, image pixels) \n",
    "images.resize_(64, 1, 784)\n",
    "# or images.resize_(images.shape[0], 1, 784) to automatically get batch size\n",
    "\n",
    "# Forward pass through the network\n",
    "img_idx = 0\n",
    "ps = model.forward(images[img_idx,:])\n",
    "\n",
    "img = images[img_idx]\n",
    "helper.view_classify(img.view(1, 28, 28), ps)"
   ]
  },
  {
   "cell_type": "markdown",
   "metadata": {},
   "source": [
    "As you can see above, our network has basically no idea what this digit is. It's because we haven't trained it yet, all the weights are random!\n",
    "\n",
    "### Using `nn.Sequential`\n",
    "\n",
    "PyTorch provides a convenient way to build networks like this where a tensor is passed sequentially through operations, `nn.Sequential` ([documentation](https://pytorch.org/docs/master/nn.html#torch.nn.Sequential)). Using this to build the equivalent network:"
   ]
  },
  {
   "cell_type": "code",
   "execution_count": 28,
   "metadata": {},
   "outputs": [
    {
     "name": "stdout",
     "output_type": "stream",
     "text": [
      "Sequential(\n",
      "  (0): Linear(in_features=784, out_features=128, bias=True)\n",
      "  (1): ReLU()\n",
      "  (2): Linear(in_features=128, out_features=64, bias=True)\n",
      "  (3): ReLU()\n",
      "  (4): Linear(in_features=64, out_features=10, bias=True)\n",
      "  (5): Softmax()\n",
      ")\n"
     ]
    },
    {
     "data": {
      "image/png": "[encoded data removed]",
      "text/plain": [
       "<Figure size 432x648 with 2 Axes>"
      ]
     },
     "metadata": {
      "image/png": {
       "height": 226,
       "width": 423
      },
      "needs_background": "light"
     },
     "output_type": "display_data"
    }
   ],
   "source": [
    "# Hyperparameters for our network\n",
    "input_size = 784\n",
    "hidden_sizes = [128, 64]\n",
    "output_size = 10\n",
    "\n",
    "# Build a feed-forward network\n",
    "model = nn.Sequential(nn.Linear(input_size, hidden_sizes[0]),\n",
    "                      nn.ReLU(),\n",
    "                      nn.Linear(hidden_sizes[0], hidden_sizes[1]),\n",
    "                      nn.ReLU(),\n",
    "                      nn.Linear(hidden_sizes[1], output_size),\n",
    "                      nn.Softmax(dim=1))\n",
    "print(model)\n",
    "\n",
    "# Forward pass through the network and display output\n",
    "images, labels = next(iter(trainloader))\n",
    "images.resize_(images.shape[0], 1, 784)\n",
    "ps = model.forward(images[0,:])\n",
    "helper.view_classify(images[0].view(1, 28, 28), ps)"
   ]
  },
  {
   "cell_type": "markdown",
   "metadata": {},
   "source": [
    "Here our model is the same as before: 784 input units, a hidden layer with 128 units, ReLU activation, 64 unit hidden layer, another ReLU, then the output layer with 10 units, and the softmax output.\n",
    "\n",
    "The operations are available by passing in the appropriate index. For example, if you want to get first Linear operation and look at the weights, you'd use `model[0]`."
   ]
  },
  {
   "cell_type": "code",
   "execution_count": null,
   "metadata": {
    "collapsed": true
   },
   "outputs": [],
   "source": [
    "print(model[0])\n",
    "model[0].weight"
   ]
  },
  {
   "cell_type": "markdown",
   "metadata": {},
   "source": [
    "You can also pass in an `OrderedDict` to name the individual layers and operations, instead of using incremental integers. Note that dictionary keys must be unique, so _each operation must have a different name_."
   ]
  },
  {
   "cell_type": "code",
   "execution_count": null,
   "metadata": {
    "collapsed": true
   },
   "outputs": [],
   "source": [
    "from collections import OrderedDict\n",
    "model = nn.Sequential(OrderedDict([\n",
    "                      ('fc1', nn.Linear(input_size, hidden_sizes[0])),\n",
    "                      ('relu1', nn.ReLU()),\n",
    "                      ('fc2', nn.Linear(hidden_sizes[0], hidden_sizes[1])),\n",
    "                      ('relu2', nn.ReLU()),\n",
    "                      ('output', nn.Linear(hidden_sizes[1], output_size)),\n",
    "                      ('softmax', nn.Softmax(dim=1))]))\n",
    "model"
   ]
  },
  {
   "cell_type": "markdown",
   "metadata": {},
   "source": [
    "Now you can access layers either by integer or the name"
   ]
  },
  {
   "cell_type": "code",
   "execution_count": null,
   "metadata": {
    "collapsed": true
   },
   "outputs": [],
   "source": [
    "print(model[0])\n",
    "print(model.fc1)"
   ]
  },
  {
   "cell_type": "markdown",
   "metadata": {},
   "source": [
    "In the next notebook, we'll see how we can train a neural network to accuractly predict the numbers appearing in the MNIST images."
   ]
  }
 ],
 "metadata": {
  "kernelspec": {
   "display_name": "Python 3",
   "language": "python",
   "name": "python3"
  },
  "language_info": {
   "codemirror_mode": {
    "name": "ipython",
    "version": 3
   },
   "file_extension": ".py",
   "mimetype": "text/x-python",
   "name": "python",
   "nbconvert_exporter": "python",
   "pygments_lexer": "ipython3",
   "version": "3.7.1"
  }
 },
 "nbformat": 4,
 "nbformat_minor": 2
}
