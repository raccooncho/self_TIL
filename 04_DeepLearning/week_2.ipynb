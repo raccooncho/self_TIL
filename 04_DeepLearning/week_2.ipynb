{
 "cells": [
  {
   "cell_type": "markdown",
   "metadata": {},
   "source": [
    "autograd를 알아보자"
   ]
  },
  {
   "cell_type": "code",
   "execution_count": 1,
   "metadata": {},
   "outputs": [
    {
     "name": "stdout",
     "output_type": "stream",
     "text": [
      "tensor([[1., 1.],\n",
      "        [1., 1.]], requires_grad=True)\n"
     ]
    }
   ],
   "source": [
    "import torch\n",
    "from torch.autograd import Variable\n",
    "\n",
    "x = Variable(torch.ones(2, 2), requires_grad=True)\n",
    "\n",
    "print(x)"
   ]
  },
  {
   "cell_type": "code",
   "execution_count": 2,
   "metadata": {},
   "outputs": [
    {
     "name": "stdout",
     "output_type": "stream",
     "text": [
      "tensor([[3., 3.],\n",
      "        [3., 3.]], grad_fn=<AddBackward0>)\n",
      "<AddBackward0 object at 0x0000024994B75CC0>\n"
     ]
    }
   ],
   "source": [
    "y = x + 2\n",
    "print(y)\n",
    "print(y.grad_fn)"
   ]
  },
  {
   "cell_type": "code",
   "execution_count": 3,
   "metadata": {},
   "outputs": [
    {
     "name": "stdout",
     "output_type": "stream",
     "text": [
      "tensor([[27., 27.],\n",
      "        [27., 27.]], grad_fn=<MulBackward0>) tensor(27., grad_fn=<MeanBackward1>)\n"
     ]
    }
   ],
   "source": [
    "z = y ** 2 * 3\n",
    "out = z.mean()\n",
    "print(z, out)"
   ]
  },
  {
   "cell_type": "code",
   "execution_count": 4,
   "metadata": {},
   "outputs": [
    {
     "name": "stdout",
     "output_type": "stream",
     "text": [
      "tensor([[4.5000, 4.5000],\n",
      "        [4.5000, 4.5000]])\n"
     ]
    }
   ],
   "source": [
    "out.backward()\n",
    "print(x.grad)"
   ]
  },
  {
   "cell_type": "markdown",
   "metadata": {},
   "source": [
    "실제로 해볼까?"
   ]
  },
  {
   "cell_type": "markdown",
   "metadata": {},
   "source": [
    "sum을 알아보자."
   ]
  },
  {
   "cell_type": "code",
   "execution_count": 5,
   "metadata": {
    "scrolled": true
   },
   "outputs": [
    {
     "name": "stdout",
     "output_type": "stream",
     "text": [
      "tensor([[[-0.9059,  1.4068,  0.9117, -0.2574],\n",
      "         [ 0.0230, -0.6518,  0.9007,  0.1131],\n",
      "         [ 0.3096, -0.6676,  0.0455,  0.9047],\n",
      "         [-1.2208, -0.3406, -0.4186,  1.2970]],\n",
      "\n",
      "        [[ 0.8575,  0.1613, -2.0877,  1.4223],\n",
      "         [-0.6580,  1.1066, -1.7934,  1.6188],\n",
      "         [ 0.5133, -0.7446, -0.6221, -0.4443],\n",
      "         [-1.4413, -0.4120, -1.0045,  0.3620]],\n",
      "\n",
      "        [[ 0.1313,  0.4666,  0.9861, -1.5468],\n",
      "         [-1.4757, -0.6671,  1.2855,  0.0417],\n",
      "         [ 1.7318, -0.6868, -0.6767, -0.2551],\n",
      "         [ 0.8528, -0.5678, -0.0389, -2.8239]],\n",
      "\n",
      "        [[ 0.2617,  0.5536,  0.0314,  0.3888],\n",
      "         [-1.0131,  1.1741, -1.1257,  1.1246],\n",
      "         [-0.3990, -2.2248,  0.8534, -0.4207],\n",
      "         [ 0.6630, -0.3692, -1.2793,  0.0186]]])\n"
     ]
    }
   ],
   "source": [
    "a = torch.randn(4, 4, 4)\n",
    "print(a)"
   ]
  },
  {
   "cell_type": "code",
   "execution_count": 6,
   "metadata": {
    "scrolled": true
   },
   "outputs": [
    {
     "data": {
      "text/plain": [
       "tensor(-6.7225)"
      ]
     },
     "execution_count": 6,
     "metadata": {},
     "output_type": "execute_result"
    }
   ],
   "source": [
    "torch.sum(a)"
   ]
  },
  {
   "cell_type": "markdown",
   "metadata": {},
   "source": [
    "dim은 axis이다."
   ]
  },
  {
   "cell_type": "code",
   "execution_count": 7,
   "metadata": {},
   "outputs": [
    {
     "data": {
      "text/plain": [
       "tensor([[ 0.3446,  2.5883, -0.1585,  0.0068],\n",
       "        [-3.1240,  0.9618, -0.7329,  2.8982],\n",
       "        [ 2.1557, -4.3238, -0.3999, -0.2155],\n",
       "        [-1.1463, -1.6896, -2.7413, -1.1463]])"
      ]
     },
     "execution_count": 7,
     "metadata": {},
     "output_type": "execute_result"
    }
   ],
   "source": [
    "torch.sum(a, 0)"
   ]
  },
  {
   "cell_type": "code",
   "execution_count": 8,
   "metadata": {},
   "outputs": [
    {
     "data": {
      "text/plain": [
       "tensor([[-1.7942, -0.2532,  1.4393,  2.0573],\n",
       "        [-0.7285,  0.1112, -5.5077,  2.9587],\n",
       "        [ 1.2402, -1.4550,  1.5560, -4.5841],\n",
       "        [-0.4874, -0.8663, -1.5202,  1.1113]])"
      ]
     },
     "execution_count": 8,
     "metadata": {},
     "output_type": "execute_result"
    }
   ],
   "source": [
    "torch.sum(a, 1)"
   ]
  },
  {
   "cell_type": "code",
   "execution_count": 9,
   "metadata": {},
   "outputs": [
    {
     "data": {
      "text/plain": [
       "tensor([[ 1.1551,  0.3850,  0.5921, -0.6830],\n",
       "        [ 0.3534,  0.2739, -1.2978, -2.4958],\n",
       "        [ 0.0372, -0.8156,  0.1133, -2.5777],\n",
       "        [ 1.2355,  0.1599, -2.1911, -0.9669]])"
      ]
     },
     "execution_count": 9,
     "metadata": {},
     "output_type": "execute_result"
    }
   ],
   "source": [
    "torch.sum(a, 2)"
   ]
  },
  {
   "cell_type": "markdown",
   "metadata": {},
   "source": [
    "조금 더 확실히 보자."
   ]
  },
  {
   "cell_type": "code",
   "execution_count": 10,
   "metadata": {
    "scrolled": true
   },
   "outputs": [
    {
     "data": {
      "text/plain": [
       "tensor([[[ 0.3446,  2.5883, -0.1585,  0.0068],\n",
       "         [-3.1240,  0.9618, -0.7329,  2.8982],\n",
       "         [ 2.1557, -4.3238, -0.3999, -0.2155],\n",
       "         [-1.1463, -1.6896, -2.7413, -1.1463]]])"
      ]
     },
     "execution_count": 10,
     "metadata": {},
     "output_type": "execute_result"
    }
   ],
   "source": [
    "torch.sum(a, 0, keepdim=True)"
   ]
  },
  {
   "cell_type": "code",
   "execution_count": 11,
   "metadata": {},
   "outputs": [
    {
     "data": {
      "text/plain": [
       "tensor([[[-1.7942, -0.2532,  1.4393,  2.0573]],\n",
       "\n",
       "        [[-0.7285,  0.1112, -5.5077,  2.9587]],\n",
       "\n",
       "        [[ 1.2402, -1.4550,  1.5560, -4.5841]],\n",
       "\n",
       "        [[-0.4874, -0.8663, -1.5202,  1.1113]]])"
      ]
     },
     "execution_count": 11,
     "metadata": {},
     "output_type": "execute_result"
    }
   ],
   "source": [
    "torch.sum(a, 1, keepdim=True)"
   ]
  },
  {
   "cell_type": "code",
   "execution_count": 12,
   "metadata": {},
   "outputs": [
    {
     "data": {
      "text/plain": [
       "tensor([[[ 1.1551],\n",
       "         [ 0.3850],\n",
       "         [ 0.5921],\n",
       "         [-0.6830]],\n",
       "\n",
       "        [[ 0.3534],\n",
       "         [ 0.2739],\n",
       "         [-1.2978],\n",
       "         [-2.4958]],\n",
       "\n",
       "        [[ 0.0372],\n",
       "         [-0.8156],\n",
       "         [ 0.1133],\n",
       "         [-2.5777]],\n",
       "\n",
       "        [[ 1.2355],\n",
       "         [ 0.1599],\n",
       "         [-2.1911],\n",
       "         [-0.9669]]])"
      ]
     },
     "execution_count": 12,
     "metadata": {},
     "output_type": "execute_result"
    }
   ],
   "source": [
    "torch.sum(a, 2, keepdim=True)"
   ]
  },
  {
   "cell_type": "markdown",
   "metadata": {},
   "source": [
    "view의 활용"
   ]
  },
  {
   "cell_type": "code",
   "execution_count": 13,
   "metadata": {
    "scrolled": true
   },
   "outputs": [
    {
     "name": "stdout",
     "output_type": "stream",
     "text": [
      "tensor([[ 0.4646, -1.7441,  0.3721, -0.5824],\n",
      "        [ 0.3402, -1.4459,  1.1414,  0.8484],\n",
      "        [-0.2230, -1.6352, -0.6418, -0.6083],\n",
      "        [ 0.9537, -1.8686, -0.1432, -0.0198]])\n"
     ]
    }
   ],
   "source": [
    "x = torch.randn(4, 4)\n",
    "print(x)"
   ]
  },
  {
   "cell_type": "code",
   "execution_count": 14,
   "metadata": {},
   "outputs": [
    {
     "name": "stdout",
     "output_type": "stream",
     "text": [
      "tensor([[ 0.4646, -1.7441],\n",
      "        [ 0.3721, -0.5824],\n",
      "        [ 0.3402, -1.4459],\n",
      "        [ 1.1414,  0.8484],\n",
      "        [-0.2230, -1.6352],\n",
      "        [-0.6418, -0.6083],\n",
      "        [ 0.9537, -1.8686],\n",
      "        [-0.1432, -0.0198]])\n"
     ]
    }
   ],
   "source": [
    "y = x.view(-1, 2)\n",
    "print(y)"
   ]
  },
  {
   "cell_type": "code",
   "execution_count": 15,
   "metadata": {
    "scrolled": false
   },
   "outputs": [
    {
     "name": "stdout",
     "output_type": "stream",
     "text": [
      "tensor([[ 0.4646, -1.7441,  0.3721, -0.5824],\n",
      "        [ 0.3402, -1.4459,  1.1414,  0.8484],\n",
      "        [-0.2230, -1.6352, -0.6418, -0.6083],\n",
      "        [ 0.9537, -1.8686, -0.1432, -0.0198]])\n"
     ]
    }
   ],
   "source": [
    "z = x.view(-1, 4)\n",
    "print(z)"
   ]
  }
 ],
 "metadata": {
  "kernelspec": {
   "display_name": "Python 3",
   "language": "python",
   "name": "python3"
  },
  "language_info": {
   "codemirror_mode": {
    "name": "ipython",
    "version": 3
   },
   "file_extension": ".py",
   "mimetype": "text/x-python",
   "name": "python",
   "nbconvert_exporter": "python",
   "pygments_lexer": "ipython3",
   "version": "3.7.1"
  }
 },
 "nbformat": 4,
 "nbformat_minor": 2
}
